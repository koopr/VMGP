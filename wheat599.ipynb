{
 "cells": [
  {
   "cell_type": "code",
   "execution_count": null,
   "id": "89293541-b4be-4695-a744-4b5383a15539",
   "metadata": {
    "tags": []
   },
   "outputs": [],
   "source": [
    "%load_ext autoreload\n",
    "%autoreload 2\n",
    "%matplotlib inline"
   ]
  },
  {
   "cell_type": "code",
   "execution_count": 7,
   "id": "d81aeae7-6abe-48e6-b121-aa92f0f6cc9c",
   "metadata": {
    "tags": []
   },
   "outputs": [
    {
     "name": "stdout",
     "output_type": "stream",
     "text": [
      "(599, 1279) (599, 4)\n"
     ]
    }
   ],
   "source": [
    "import numpy as np\n",
    "import matplotlib.pyplot as plt\n",
    "from vaegs.model import *\n",
    "from vaegs.utils import *\n",
    "from vaegs.train import *\n",
    "import warnings\n",
    "warnings.filterwarnings(\"ignore\")\n",
    "\n",
    "data599 = np.loadtxt('./data/wheat599_X.pkl.csv', delimiter=',')\n",
    "data599 = data599[:,1:]\n",
    "type_1 = np.loadtxt('./data/wheat1.Y', delimiter=',',skiprows=1)\n",
    "type_2 = np.loadtxt('./data/wheat2.Y', delimiter=',',skiprows=1)\n",
    "type_3 = np.loadtxt('./data/wheat3.Y', delimiter=',',skiprows=1)\n",
    "type_4 = np.loadtxt('./data/wheat4.Y', delimiter=',',skiprows=1)\n",
    "type599 = np.stack((type_1,type_2,type_3,type_4)).T\n",
    "print(data599.shape,type599.shape)"
   ]
  },
  {
   "cell_type": "code",
   "execution_count": null,
   "id": "04381480-9dee-4608-b124-63854f50d3ba",
   "metadata": {
    "scrolled": true,
    "tags": []
   },
   "outputs": [],
   "source": [
    "device = try_gpu(2)\n",
    "out_dim = type599.shape[1]\n",
    "file_name='wheat599.csv'\n",
    "net = VMGP(data599.shape[1],out_dim=out_dim)\n",
    "batch_size = 32\n",
    "train_test_klcv(net,data599, type599,num_epochs=50,lr=0.0001, print_skip = 50, device = device, \n",
    "                batch_size=batch_size, file_name=file_name)"
   ]
  },
  {
   "cell_type": "code",
   "execution_count": null,
   "id": "24b08f92-1b59-44a8-a69e-b7ae54fd16bd",
   "metadata": {},
   "outputs": [],
   "source": []
  }
 ],
 "metadata": {
  "kernelspec": {
   "display_name": "JAMIE",
   "language": "python",
   "name": "jamie"
  },
  "language_info": {
   "codemirror_mode": {
    "name": "ipython",
    "version": 3
   },
   "file_extension": ".py",
   "mimetype": "text/x-python",
   "name": "python",
   "nbconvert_exporter": "python",
   "pygments_lexer": "ipython3",
   "version": "3.9.18"
  }
 },
 "nbformat": 4,
 "nbformat_minor": 5
}
